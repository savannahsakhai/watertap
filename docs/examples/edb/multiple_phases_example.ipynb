{
 "cells": [
  {
   "cell_type": "markdown",
   "id": "4688ceda",
   "metadata": {},
   "source": [
    "# Multiple Phases Example \n",
    "\n",
    "**STEPS**\n",
    "\n",
    "1. Connect to the database \n",
    "2. Create a 'thermo' base for Liquid-Vapor problem\n",
    "3. Add components and check for 'phase_equilibrium_form' arg\n",
    "4. Create a 'thermo' base for Liquid-Solid problem \n",
    "5. Add components for water plus lime (i.e., calcium hydroxide) \n",
    "6. Create a 'reaction' base and pull in the solubility product reactions"
   ]
  },
  {
   "cell_type": "markdown",
   "id": "338de913",
   "metadata": {},
   "source": [
    "## 1. Connect to database "
   ]
  },
  {
   "cell_type": "code",
   "execution_count": 1,
   "id": "510d3e42",
   "metadata": {},
   "outputs": [
    {
     "name": "stdout",
     "output_type": "stream",
     "text": [
      "connecting to mongodb://localhost:27017\n"
     ]
    }
   ],
   "source": [
    "from watertap.edb import ElectrolyteDB\n",
    "print(\"connecting to \" + str(ElectrolyteDB.DEFAULT_URL))\n",
    "db = ElectrolyteDB()"
   ]
  },
  {
   "cell_type": "markdown",
   "id": "1f83537a",
   "metadata": {},
   "source": [
    "## 2. Create 'thermo' base for Liquid-Vapor problem\n",
    "\n",
    "This is the only major step that is different from the previous example. All subsequent steps from this point would be the same. Note here that the \"thermo_Liq_Vap_FpcTP\" base brings in some additional information that includes: (i) which phases are in equilibrium ('phase_equilibrium_state') and (ii) the type of'bubble_dew_method' used. These arguments in the 'base' object will also have a down-stream impact on what information gets pulled in when grabbing components and adding them to the 'base'.  "
   ]
  },
  {
   "cell_type": "code",
   "execution_count": 2,
   "id": "f5fe9e88",
   "metadata": {},
   "outputs": [
    {
     "data": {
      "text/plain": [
       "{'phases': {'Liq': {'type': idaes.core.base.phases.AqueousPhase,\n",
       "   'equation_of_state': idaes.models.properties.modular_properties.eos.ideal.Ideal},\n",
       "  'Vap': {'type': idaes.core.base.phases.VaporPhase,\n",
       "   'equation_of_state': idaes.models.properties.modular_properties.eos.ideal.Ideal}},\n",
       " 'state_definition': idaes.models.properties.modular_properties.state_definitions.FpcTP.FpcTP,\n",
       " 'state_bounds': {'temperature': (273.15, 300, 650),\n",
       "  'pressure': (50000, 100000, 1000000)},\n",
       " 'pressure_ref': 100000,\n",
       " 'temperature_ref': 300,\n",
       " 'phases_in_equilibrium': [('Vap', 'Liq')],\n",
       " 'phase_equilibrium_state': {('Vap',\n",
       "   'Liq'): idaes.models.properties.modular_properties.phase_equil.smooth_VLE.SmoothVLE},\n",
       " 'bubble_dew_method': idaes.models.properties.modular_properties.phase_equil.bubble_dew.IdealBubbleDew,\n",
       " 'base_units': {'time': <pyomo.core.base.units_container._PyomoUnit at 0x7fc62ff2d730>,\n",
       "  'length': <pyomo.core.base.units_container._PyomoUnit at 0x7fc62ff2d700>,\n",
       "  'mass': <pyomo.core.base.units_container._PyomoUnit at 0x7fc62ff2d250>,\n",
       "  'amount': <pyomo.core.base.units_container._PyomoUnit at 0x7fc62ff2db80>,\n",
       "  'temperature': <pyomo.core.base.units_container._PyomoUnit at 0x7fc708052880>}}"
      ]
     },
     "execution_count": 2,
     "metadata": {},
     "output_type": "execute_result"
    }
   ],
   "source": [
    "vap_liq_thermo_base = db.get_base(\"thermo_Liq_Vap_FpcTP\")\n",
    "vap_liq_thermo_base.idaes_config"
   ]
  },
  {
   "cell_type": "markdown",
   "id": "d71eae2f",
   "metadata": {},
   "source": [
    "## 3. Add components to the Liquid-Vapor problem\n",
    "\n",
    "In this demo, we will only add 'H2O' and 'CO2' to our 'base' object. Both of these components have valid parameter information in the database to resolve the phase equilibrium between vapor and liquid systems. After the components are added, there is now a 'phase_equilibrium_form' key in the IDAES config under each component. This key contains a dictionary defing what phases are in equilibrium and how that equilibrium is resolved (i.e., in this case the'fugacity' method is used). \n",
    "\n",
    "NOTE: You can also add other reactions to this system (not shown here). "
   ]
  },
  {
   "cell_type": "code",
   "execution_count": 3,
   "id": "745d7be1",
   "metadata": {},
   "outputs": [
    {
     "name": "stdout",
     "output_type": "stream",
     "text": [
      "Adding CO2\n",
      "Adding H2O\n"
     ]
    },
    {
     "data": {
      "text/plain": [
       "{('Vap',\n",
       "  'Liq'): idaes.models.properties.modular_properties.phase_equil.forms.fugacity}"
      ]
     },
     "execution_count": 3,
     "metadata": {},
     "output_type": "execute_result"
    }
   ],
   "source": [
    "comp_list = [\"H2O\", \"CO2\"]\n",
    "comps = db.get_components(component_names=comp_list)\n",
    "for comp_obj in comps:\n",
    "    print(\"Adding \" + str(comp_obj.name) + \"\" )\n",
    "    vap_liq_thermo_base.add(comp_obj)\n",
    "\n",
    "vap_liq_thermo_base.idaes_config['components']['H2O']['phase_equilibrium_form']"
   ]
  },
  {
   "cell_type": "markdown",
   "id": "b0671678",
   "metadata": {},
   "source": [
    "## 4. Create 'thermo' base for Liquid-Solid problem\n",
    "\n",
    "Liquid-Solid equilibrium is resolved in IDAES using the 'reaction' configuration and defining a 'solubility product' reaction in that configuration dictionary. Thus, the 'thermo' base for the Liquid-Solid system will look remarkably similar to the Liquid only system. The only difference is that 'Sol' is now a valid phase in the 'phases' dictionary. "
   ]
  },
  {
   "cell_type": "code",
   "execution_count": 4,
   "id": "3e9e679b",
   "metadata": {},
   "outputs": [
    {
     "data": {
      "text/plain": [
       "{'phases': {'Liq': {'type': idaes.core.base.phases.AqueousPhase,\n",
       "   'equation_of_state': idaes.models.properties.modular_properties.eos.ideal.Ideal},\n",
       "  'Sol': {'type': idaes.core.base.phases.SolidPhase,\n",
       "   'equation_of_state': idaes.models.properties.modular_properties.eos.ideal.Ideal}},\n",
       " 'state_definition': idaes.models.properties.modular_properties.state_definitions.FpcTP.FpcTP,\n",
       " 'state_bounds': {'temperature': (273.15, 300, 650),\n",
       "  'pressure': (50000, 100000, 1000000)},\n",
       " 'pressure_ref': 100000,\n",
       " 'temperature_ref': 300,\n",
       " 'base_units': {'time': <pyomo.core.base.units_container._PyomoUnit at 0x7fc62ff2d730>,\n",
       "  'length': <pyomo.core.base.units_container._PyomoUnit at 0x7fc62ff2d700>,\n",
       "  'mass': <pyomo.core.base.units_container._PyomoUnit at 0x7fc62ff2d250>,\n",
       "  'amount': <pyomo.core.base.units_container._PyomoUnit at 0x7fc62ff2db80>,\n",
       "  'temperature': <pyomo.core.base.units_container._PyomoUnit at 0x7fc708052880>}}"
      ]
     },
     "execution_count": 4,
     "metadata": {},
     "output_type": "execute_result"
    }
   ],
   "source": [
    "sol_liq_thermo_base = db.get_base(\"thermo_Liq_Sol_FpcTP\")\n",
    "sol_liq_thermo_base.idaes_config"
   ]
  },
  {
   "cell_type": "markdown",
   "id": "4e6cd058",
   "metadata": {},
   "source": [
    "## 5. Add the components for a water + lime system \n",
    "\n",
    "Adding components is the same as before. In the database, the 'lime' component is denoted by 'Ca[OH]2'. "
   ]
  },
  {
   "cell_type": "code",
   "execution_count": 5,
   "id": "2ba58c08",
   "metadata": {},
   "outputs": [
    {
     "name": "stdout",
     "output_type": "stream",
     "text": [
      "Adding Ca[OH]2\n",
      "Adding Ca_2+\n",
      "Adding H_+\n",
      "Adding OH_-\n",
      "Adding H2O\n"
     ]
    }
   ],
   "source": [
    "comp_list = [\"H2O\", \"Ca[OH]2\", \"H_+\", \"OH_-\", \"Ca_2+\"]\n",
    "comps = db.get_components(component_names=comp_list)\n",
    "for comp_obj in comps:\n",
    "    print(\"Adding \" + str(comp_obj.name) + \"\" )\n",
    "    sol_liq_thermo_base.add(comp_obj)"
   ]
  },
  {
   "cell_type": "markdown",
   "id": "9985ee99",
   "metadata": {},
   "source": [
    "## 6. Create 'reaction' base and add reactions \n",
    "\n",
    "Solubility product reactions are stored in the database in the same way that acid-base reactions are stored. Thus, to include Liquid-Solid equilibrium constaints to our model, we only need to call the 'get_reactions' function to grab all reactions for our system of interest. \n",
    "\n",
    "As an optional argument, you can pass a 'phases' list to the 'get_reactions' function. Reactions will be added only if they DO NOT contain an invalid phase in the list. In this example, we state that both \"Liq\" and \"Sol\" are valid phases. Thus, it will grab all reactions that contain either phase (and meet the other criteria based on the list of components). "
   ]
  },
  {
   "cell_type": "code",
   "execution_count": 6,
   "id": "3e531e10",
   "metadata": {},
   "outputs": [
    {
     "name": "stdout",
     "output_type": "stream",
     "text": [
      "Found reaction: H2O_Kw\n",
      "Found reaction: CaOH2_Ksp\n"
     ]
    },
    {
     "data": {
      "text/plain": [
       "{'base_units': {'time': <pyomo.core.base.units_container._PyomoUnit at 0x7fc62ff2d730>,\n",
       "  'length': <pyomo.core.base.units_container._PyomoUnit at 0x7fc62ff2d700>,\n",
       "  'mass': <pyomo.core.base.units_container._PyomoUnit at 0x7fc62ff2d250>,\n",
       "  'amount': <pyomo.core.base.units_container._PyomoUnit at 0x7fc62ff2db80>,\n",
       "  'temperature': <pyomo.core.base.units_container._PyomoUnit at 0x7fc708052880>},\n",
       " 'equilibrium_reactions': {'H2O_Kw': {'stoichiometry': {('Liq', 'H2O'): -1,\n",
       "    ('Liq', 'H_+'): 1,\n",
       "    ('Liq', 'OH_-'): 1},\n",
       "   'heat_of_reaction': idaes.models.properties.modular_properties.reactions.dh_rxn.constant_dh_rxn,\n",
       "   'equilibrium_constant': idaes.models.properties.modular_properties.reactions.equilibrium_constant.van_t_hoff,\n",
       "   'equilibrium_form': idaes.models.properties.modular_properties.reactions.equilibrium_forms.log_power_law_equil,\n",
       "   'concentration_form': <ConcentrationForm.moleFraction: 4>,\n",
       "   'parameter_data': {'dh_rxn_ref': (55.83,\n",
       "     <pyomo.core.expr.numeric_expr.NPV_DivisionExpression at 0x7fc62fc41ca0>),\n",
       "    'ds_rxn_ref': (-80.7,\n",
       "     <pyomo.core.expr.numeric_expr.NPV_DivisionExpression at 0x7fc62fc419a0>),\n",
       "    'k_eq_ref': (3.281873555975635e-18,\n",
       "     <pyomo.core.base.units_container._PyomoUnit at 0x7fc62e3dbdc0>),\n",
       "    'T_eq_ref': (298,\n",
       "     <pyomo.core.base.units_container._PyomoUnit at 0x7fc708052880>),\n",
       "    'reaction_order': {('Liq', 'H2O'): -1,\n",
       "     ('Liq', 'H_+'): 1,\n",
       "     ('Liq', 'OH_-'): 1}}},\n",
       "  'CaOH2_Ksp': {'stoichiometry': {('Liq', 'Ca_2+'): 1,\n",
       "    ('Liq', 'OH_-'): 2,\n",
       "    ('Sol', 'Ca[OH]2'): -1},\n",
       "   'heat_of_reaction': idaes.models.properties.modular_properties.reactions.dh_rxn.constant_dh_rxn,\n",
       "   'equilibrium_constant': idaes.models.properties.modular_properties.reactions.equilibrium_constant.van_t_hoff,\n",
       "   'equilibrium_form': idaes.models.properties.modular_properties.reactions.equilibrium_forms.log_solubility_product,\n",
       "   'concentration_form': <ConcentrationForm.moleFraction: 4>,\n",
       "   'parameter_data': {'dh_rxn_ref': (0,\n",
       "     <pyomo.core.expr.numeric_expr.NPV_DivisionExpression at 0x7fc62fc41280>),\n",
       "    'k_eq_ref': (3.26725301e-11,\n",
       "     <pyomo.core.base.units_container._PyomoUnit at 0x7fc62e3dbdc0>),\n",
       "    'T_eq_ref': (298,\n",
       "     <pyomo.core.base.units_container._PyomoUnit at 0x7fc708052880>),\n",
       "    'reaction_order': {('Liq', 'Ca_2+'): 1,\n",
       "     ('Liq', 'OH_-'): 2,\n",
       "     ('Sol', 'Ca[OH]2'): -1}}}}}"
      ]
     },
     "execution_count": 6,
     "metadata": {},
     "output_type": "execute_result"
    }
   ],
   "source": [
    "react_base = db.get_base(\"reaction\")\n",
    "phase_list = [\"Liq\", \"Sol\"]\n",
    "react_obj = db.get_reactions(component_names=comp_list, phases=phase_list)\n",
    "for r in react_obj:\n",
    "    print(\"Found reaction: \" + str(r.name))\n",
    "    react_base.add(r)\n",
    "\n",
    "react_base.idaes_config"
   ]
  },
  {
   "cell_type": "markdown",
   "id": "55bbcc9c",
   "metadata": {},
   "source": [
    "\n",
    "\n",
    "If instead of giving both \"Liq\" and \"Sol\" as valid phases we specify just \"Liq\", then we will only find the 'H2O_Kw' reaction, because 'CaOH2_Ksp' contains a \"Sol\" phase component. "
   ]
  },
  {
   "cell_type": "code",
   "execution_count": 7,
   "id": "4d094a04",
   "metadata": {},
   "outputs": [
    {
     "name": "stdout",
     "output_type": "stream",
     "text": [
      "Found reaction: H2O_Kw\n"
     ]
    }
   ],
   "source": [
    "react_obj = db.get_reactions(component_names=comp_list, phases=[\"Liq\"])\n",
    "for r in react_obj:\n",
    "    print(\"Found reaction: \" + str(r.name))"
   ]
  }
 ],
 "metadata": {
  "kernelspec": {
   "display_name": "watertap-dev",
   "language": "python",
   "name": "watertap-dev"
  },
  "language_info": {
   "codemirror_mode": {
    "name": "ipython",
    "version": 3
   },
   "file_extension": ".py",
   "mimetype": "text/x-python",
   "name": "python",
   "nbconvert_exporter": "python",
   "pygments_lexer": "ipython3",
   "version": "3.8.12"
  }
 },
 "nbformat": 4,
 "nbformat_minor": 5
}
